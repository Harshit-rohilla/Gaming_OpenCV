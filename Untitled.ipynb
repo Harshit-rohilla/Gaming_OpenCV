{
 "cells": [
  {
   "cell_type": "code",
   "execution_count": 8,
   "id": "096897f0",
   "metadata": {
    "scrolled": true
   },
   "outputs": [
    {
     "ename": "TypeError",
     "evalue": "create_int(): incompatible function arguments. The following argument types are supported:\n    1. (arg0: int) -> mediapipe.python._framework_bindings.packet.Packet\n\nInvoked with: 0.75",
     "output_type": "error",
     "traceback": [
      "\u001b[1;31m---------------------------------------------------------------------------\u001b[0m",
      "\u001b[1;31mTypeError\u001b[0m                                 Traceback (most recent call last)",
      "\u001b[1;32mc:\\Users\\harsh\\Downloads\\Compressed\\Gaming-main\\Gaming-main\\Untitled.ipynb Cell 1\u001b[0m line \u001b[0;36m2\n\u001b[0;32m      <a href='vscode-notebook-cell:/c%3A/Users/harsh/Downloads/Compressed/Gaming-main/Gaming-main/Untitled.ipynb#W0sZmlsZQ%3D%3D?line=0'>1</a>\u001b[0m \u001b[39mimport\u001b[39;00m \u001b[39mDriverFunction\u001b[39;00m\n\u001b[1;32m----> <a href='vscode-notebook-cell:/c%3A/Users/harsh/Downloads/Compressed/Gaming-main/Gaming-main/Untitled.ipynb#W0sZmlsZQ%3D%3D?line=1'>2</a>\u001b[0m DriverFunction\u001b[39m.\u001b[39;49mGame()\n",
      "File \u001b[1;32mc:\\Users\\harsh\\Downloads\\Compressed\\Gaming-main\\Gaming-main\\DriverFunction.py:12\u001b[0m, in \u001b[0;36mGame\u001b[1;34m()\u001b[0m\n\u001b[0;32m      9\u001b[0m \u001b[39mimport\u001b[39;00m \u001b[39mSnake\u001b[39;00m\n\u001b[0;32m     10\u001b[0m \u001b[39mimport\u001b[39;00m \u001b[39mHand_Detector\u001b[39;00m\n\u001b[1;32m---> 12\u001b[0m detector \u001b[39m=\u001b[39m Hand_Detector\u001b[39m.\u001b[39;49mhandDetector(detectionCon\u001b[39m=\u001b[39;49m\u001b[39m0.75\u001b[39;49m)\n\u001b[0;32m     13\u001b[0m wCam, hCam \u001b[39m=\u001b[39m \u001b[39m640\u001b[39m,\u001b[39m480\u001b[39m\n\u001b[0;32m     14\u001b[0m cap \u001b[39m=\u001b[39m cv2\u001b[39m.\u001b[39mVideoCapture(\u001b[39m0\u001b[39m)\n",
      "File \u001b[1;32mc:\\Users\\harsh\\Downloads\\Compressed\\Gaming-main\\Gaming-main\\Hand_Detector.py:12\u001b[0m, in \u001b[0;36mhandDetector.__init__\u001b[1;34m(self, mode, maxHands, detectionCon, trackCon)\u001b[0m\n\u001b[0;32m      9\u001b[0m \u001b[39mself\u001b[39m\u001b[39m.\u001b[39mtrackCon \u001b[39m=\u001b[39m trackCon\n\u001b[0;32m     11\u001b[0m \u001b[39mself\u001b[39m\u001b[39m.\u001b[39mmpHands \u001b[39m=\u001b[39m mp\u001b[39m.\u001b[39msolutions\u001b[39m.\u001b[39mhands\n\u001b[1;32m---> 12\u001b[0m \u001b[39mself\u001b[39m\u001b[39m.\u001b[39mhands \u001b[39m=\u001b[39m \u001b[39mself\u001b[39;49m\u001b[39m.\u001b[39;49mmpHands\u001b[39m.\u001b[39;49mHands(\u001b[39mself\u001b[39;49m\u001b[39m.\u001b[39;49mmode, \u001b[39mself\u001b[39;49m\u001b[39m.\u001b[39;49mmaxHands, \u001b[39mself\u001b[39;49m\u001b[39m.\u001b[39;49mdetectionCon, \u001b[39mself\u001b[39;49m\u001b[39m.\u001b[39;49mtrackCon)\n\u001b[0;32m     13\u001b[0m \u001b[39mself\u001b[39m\u001b[39m.\u001b[39mmpDraw \u001b[39m=\u001b[39m mp\u001b[39m.\u001b[39msolutions\u001b[39m.\u001b[39mdrawing_utils\n",
      "File \u001b[1;32mc:\\Users\\harsh\\AppData\\Local\\Programs\\Python\\Python311\\Lib\\site-packages\\mediapipe\\python\\solutions\\hands.py:114\u001b[0m, in \u001b[0;36mHands.__init__\u001b[1;34m(self, static_image_mode, max_num_hands, model_complexity, min_detection_confidence, min_tracking_confidence)\u001b[0m\n\u001b[0;32m     89\u001b[0m \u001b[39mdef\u001b[39;00m \u001b[39m__init__\u001b[39m(\u001b[39mself\u001b[39m,\n\u001b[0;32m     90\u001b[0m              static_image_mode\u001b[39m=\u001b[39m\u001b[39mFalse\u001b[39;00m,\n\u001b[0;32m     91\u001b[0m              max_num_hands\u001b[39m=\u001b[39m\u001b[39m2\u001b[39m,\n\u001b[0;32m     92\u001b[0m              model_complexity\u001b[39m=\u001b[39m\u001b[39m1\u001b[39m,\n\u001b[0;32m     93\u001b[0m              min_detection_confidence\u001b[39m=\u001b[39m\u001b[39m0.5\u001b[39m,\n\u001b[0;32m     94\u001b[0m              min_tracking_confidence\u001b[39m=\u001b[39m\u001b[39m0.5\u001b[39m):\n\u001b[0;32m     95\u001b[0m \u001b[39m  \u001b[39m\u001b[39m\"\"\"Initializes a MediaPipe Hand object.\u001b[39;00m\n\u001b[0;32m     96\u001b[0m \n\u001b[0;32m     97\u001b[0m \u001b[39m  Args:\u001b[39;00m\n\u001b[1;32m   (...)\u001b[0m\n\u001b[0;32m    112\u001b[0m \u001b[39m      https://solutions.mediapipe.dev/hands#min_tracking_confidence.\u001b[39;00m\n\u001b[0;32m    113\u001b[0m \u001b[39m  \"\"\"\u001b[39;00m\n\u001b[1;32m--> 114\u001b[0m   \u001b[39msuper\u001b[39;49m()\u001b[39m.\u001b[39;49m\u001b[39m__init__\u001b[39;49m(\n\u001b[0;32m    115\u001b[0m       binary_graph_path\u001b[39m=\u001b[39;49m_BINARYPB_FILE_PATH,\n\u001b[0;32m    116\u001b[0m       side_inputs\u001b[39m=\u001b[39;49m{\n\u001b[0;32m    117\u001b[0m           \u001b[39m'\u001b[39;49m\u001b[39mmodel_complexity\u001b[39;49m\u001b[39m'\u001b[39;49m: model_complexity,\n\u001b[0;32m    118\u001b[0m           \u001b[39m'\u001b[39;49m\u001b[39mnum_hands\u001b[39;49m\u001b[39m'\u001b[39;49m: max_num_hands,\n\u001b[0;32m    119\u001b[0m           \u001b[39m'\u001b[39;49m\u001b[39muse_prev_landmarks\u001b[39;49m\u001b[39m'\u001b[39;49m: \u001b[39mnot\u001b[39;49;00m static_image_mode,\n\u001b[0;32m    120\u001b[0m       },\n\u001b[0;32m    121\u001b[0m       calculator_params\u001b[39m=\u001b[39;49m{\n\u001b[0;32m    122\u001b[0m           \u001b[39m'\u001b[39;49m\u001b[39mpalmdetectioncpu__TensorsToDetectionsCalculator.min_score_thresh\u001b[39;49m\u001b[39m'\u001b[39;49m:\n\u001b[0;32m    123\u001b[0m               min_detection_confidence,\n\u001b[0;32m    124\u001b[0m           \u001b[39m'\u001b[39;49m\u001b[39mhandlandmarkcpu__ThresholdingCalculator.threshold\u001b[39;49m\u001b[39m'\u001b[39;49m:\n\u001b[0;32m    125\u001b[0m               min_tracking_confidence,\n\u001b[0;32m    126\u001b[0m       },\n\u001b[0;32m    127\u001b[0m       outputs\u001b[39m=\u001b[39;49m[\n\u001b[0;32m    128\u001b[0m           \u001b[39m'\u001b[39;49m\u001b[39mmulti_hand_landmarks\u001b[39;49m\u001b[39m'\u001b[39;49m, \u001b[39m'\u001b[39;49m\u001b[39mmulti_hand_world_landmarks\u001b[39;49m\u001b[39m'\u001b[39;49m,\n\u001b[0;32m    129\u001b[0m           \u001b[39m'\u001b[39;49m\u001b[39mmulti_handedness\u001b[39;49m\u001b[39m'\u001b[39;49m\n\u001b[0;32m    130\u001b[0m       ])\n",
      "File \u001b[1;32mc:\\Users\\harsh\\AppData\\Local\\Programs\\Python\\Python311\\Lib\\site-packages\\mediapipe\\python\\solution_base.py:296\u001b[0m, in \u001b[0;36mSolutionBase.__init__\u001b[1;34m(self, binary_graph_path, graph_config, calculator_params, graph_options, side_inputs, outputs, stream_type_hints)\u001b[0m\n\u001b[0;32m    293\u001b[0m \u001b[39mfor\u001b[39;00m stream_name \u001b[39min\u001b[39;00m \u001b[39mself\u001b[39m\u001b[39m.\u001b[39m_output_stream_type_info\u001b[39m.\u001b[39mkeys():\n\u001b[0;32m    294\u001b[0m   \u001b[39mself\u001b[39m\u001b[39m.\u001b[39m_graph\u001b[39m.\u001b[39mobserve_output_stream(stream_name, callback, \u001b[39mTrue\u001b[39;00m)\n\u001b[1;32m--> 296\u001b[0m \u001b[39mself\u001b[39m\u001b[39m.\u001b[39m_input_side_packets \u001b[39m=\u001b[39m {\n\u001b[0;32m    297\u001b[0m     name: \u001b[39mself\u001b[39;49m\u001b[39m.\u001b[39;49m_make_packet(\u001b[39mself\u001b[39;49m\u001b[39m.\u001b[39;49m_side_input_type_info[name], data)\n\u001b[0;32m    298\u001b[0m     \u001b[39mfor\u001b[39;49;00m name, data \u001b[39min\u001b[39;49;00m (side_inputs \u001b[39mor\u001b[39;49;00m {})\u001b[39m.\u001b[39;49mitems()\n\u001b[0;32m    299\u001b[0m }\n\u001b[0;32m    300\u001b[0m \u001b[39mself\u001b[39m\u001b[39m.\u001b[39m_graph\u001b[39m.\u001b[39mstart_run(\u001b[39mself\u001b[39m\u001b[39m.\u001b[39m_input_side_packets)\n",
      "File \u001b[1;32mc:\\Users\\harsh\\AppData\\Local\\Programs\\Python\\Python311\\Lib\\site-packages\\mediapipe\\python\\solution_base.py:297\u001b[0m, in \u001b[0;36m<dictcomp>\u001b[1;34m(.0)\u001b[0m\n\u001b[0;32m    293\u001b[0m \u001b[39mfor\u001b[39;00m stream_name \u001b[39min\u001b[39;00m \u001b[39mself\u001b[39m\u001b[39m.\u001b[39m_output_stream_type_info\u001b[39m.\u001b[39mkeys():\n\u001b[0;32m    294\u001b[0m   \u001b[39mself\u001b[39m\u001b[39m.\u001b[39m_graph\u001b[39m.\u001b[39mobserve_output_stream(stream_name, callback, \u001b[39mTrue\u001b[39;00m)\n\u001b[0;32m    296\u001b[0m \u001b[39mself\u001b[39m\u001b[39m.\u001b[39m_input_side_packets \u001b[39m=\u001b[39m {\n\u001b[1;32m--> 297\u001b[0m     name: \u001b[39mself\u001b[39;49m\u001b[39m.\u001b[39;49m_make_packet(\u001b[39mself\u001b[39;49m\u001b[39m.\u001b[39;49m_side_input_type_info[name], data)\n\u001b[0;32m    298\u001b[0m     \u001b[39mfor\u001b[39;00m name, data \u001b[39min\u001b[39;00m (side_inputs \u001b[39mor\u001b[39;00m {})\u001b[39m.\u001b[39mitems()\n\u001b[0;32m    299\u001b[0m }\n\u001b[0;32m    300\u001b[0m \u001b[39mself\u001b[39m\u001b[39m.\u001b[39m_graph\u001b[39m.\u001b[39mstart_run(\u001b[39mself\u001b[39m\u001b[39m.\u001b[39m_input_side_packets)\n",
      "File \u001b[1;32mc:\\Users\\harsh\\AppData\\Local\\Programs\\Python\\Python311\\Lib\\site-packages\\mediapipe\\python\\solution_base.py:599\u001b[0m, in \u001b[0;36mSolutionBase._make_packet\u001b[1;34m(self, packet_data_type, data)\u001b[0m\n\u001b[0;32m    596\u001b[0m   \u001b[39mreturn\u001b[39;00m \u001b[39mgetattr\u001b[39m(packet_creator, \u001b[39m'\u001b[39m\u001b[39mcreate_\u001b[39m\u001b[39m'\u001b[39m \u001b[39m+\u001b[39m packet_data_type\u001b[39m.\u001b[39mvalue)(\n\u001b[0;32m    597\u001b[0m       data, image_format\u001b[39m=\u001b[39mimage_frame\u001b[39m.\u001b[39mImageFormat\u001b[39m.\u001b[39mSRGB)\n\u001b[0;32m    598\u001b[0m \u001b[39melse\u001b[39;00m:\n\u001b[1;32m--> 599\u001b[0m   \u001b[39mreturn\u001b[39;00m \u001b[39mgetattr\u001b[39;49m(packet_creator, \u001b[39m'\u001b[39;49m\u001b[39mcreate_\u001b[39;49m\u001b[39m'\u001b[39;49m \u001b[39m+\u001b[39;49m packet_data_type\u001b[39m.\u001b[39;49mvalue)(data)\n",
      "\u001b[1;31mTypeError\u001b[0m: create_int(): incompatible function arguments. The following argument types are supported:\n    1. (arg0: int) -> mediapipe.python._framework_bindings.packet.Packet\n\nInvoked with: 0.75"
     ]
    }
   ],
   "source": [
    "import DriverFunction\n",
    "DriverFunction.Game()"
   ]
  },
  {
   "cell_type": "code",
   "execution_count": null,
   "id": "1deb2138",
   "metadata": {},
   "outputs": [],
   "source": []
  },
  {
   "cell_type": "code",
   "execution_count": null,
   "id": "e2a356df",
   "metadata": {},
   "outputs": [],
   "source": []
  }
 ],
 "metadata": {
  "kernelspec": {
   "display_name": "Python 3",
   "language": "python",
   "name": "python3"
  },
  "language_info": {
   "codemirror_mode": {
    "name": "ipython",
    "version": 3
   },
   "file_extension": ".py",
   "mimetype": "text/x-python",
   "name": "python",
   "nbconvert_exporter": "python",
   "pygments_lexer": "ipython3",
   "version": "3.11.1"
  }
 },
 "nbformat": 4,
 "nbformat_minor": 5
}
